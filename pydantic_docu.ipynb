{
 "cells": [
  {
   "cell_type": "markdown",
   "metadata": {},
   "source": [
    "# Pydantic docu\n",
    "\n",
    "- [Basic example](#basic_example)\n",
    "    - [validation example](#validator_example)\n",
    "\n",
    "Pydantic is a libray which helps to organise store and validate data:\n",
    "\n",
    "$ a*x + b = y$\n",
    "\n",
    "for example:\n",
    "- You want to collect the same dataset of **name**, **age** and **job** for different persons, then you usually have to:"
   ]
  },
  {
   "cell_type": "code",
   "execution_count": 2,
   "metadata": {},
   "outputs": [
    {
     "name": "stdout",
     "output_type": "stream",
     "text": [
      "{'name': 'Stephan', 'age': 34, 'job': 'Biocatalyst'}\n"
     ]
    }
   ],
   "source": [
    "class Person:\n",
    "    def __init__(self, name, age, job):\n",
    "        self.name = name\n",
    "        self.age = age\n",
    "        self.job = job\n",
    "    \n",
    "    def map_person(self):\n",
    "        person = {}\n",
    "        person[\"name\"] = self.name\n",
    "        person[\"age\"] = self.age\n",
    "        person[\"job\"] = self.job\n",
    "        return person\n",
    "\n",
    "stephan = Person(\"Stephan\", 34, \"Biocatalyst\").map_person()\n",
    "print(stephan)\n",
    "\n"
   ]
  },
  {
   "cell_type": "markdown",
   "metadata": {},
   "source": [
    "<a class=\"anchor\" id=\"basic_example\"></a>\n",
    "## Basic example\n",
    "We want to have this easier and this is, where **pydantic** comes into play:"
   ]
  },
  {
   "cell_type": "code",
   "execution_count": 14,
   "metadata": {},
   "outputs": [
    {
     "name": "stdout",
     "output_type": "stream",
     "text": [
      "{'name': 'Stephan', 'age': 34, 'job': 'Biocatalyst'}\n"
     ]
    }
   ],
   "source": [
    "#<a class=\"anchor\" name=\"basic_example\"></a>\n",
    "from pydantic import BaseModel\n",
    "\n",
    "class Person(BaseModel):\n",
    "    name: str\n",
    "    age: int\n",
    "    job: str\n",
    "\n",
    "stephan = Person(name=\"Stephan\",age=34, job=\"Biocatalyst\").dict()\n",
    "print(stephan)\n"
   ]
  },
  {
   "cell_type": "markdown",
   "metadata": {},
   "source": [
    "As seen, it is much easier to map data with pydantic!\n",
    "- Um eine Instanz des Base Models als **dict** auszugeben:\n",
    "\n",
    "`object.dict()` <br>\n",
    "In our example this was: <br>\n",
    "`stephan.dict()`\n",
    "\n",
    "\n"
   ]
  },
  {
   "cell_type": "markdown",
   "metadata": {},
   "source": [
    "<a class=\"anchor\" id=\"validator_example\"></a>\n",
    "## Validation Example"
   ]
  }
 ],
 "metadata": {
  "interpreter": {
   "hash": "cc033ebe99e405e33a4a383e14ae1664bf67e0ee711f463ee69b81dbdcfa5b78"
  },
  "kernelspec": {
   "display_name": "Python 3.7.3 64-bit ('base': conda)",
   "language": "python",
   "name": "python3"
  },
  "language_info": {
   "codemirror_mode": {
    "name": "ipython",
    "version": 3
   },
   "file_extension": ".py",
   "mimetype": "text/x-python",
   "name": "python",
   "nbconvert_exporter": "python",
   "pygments_lexer": "ipython3",
   "version": "3.7.3"
  },
  "orig_nbformat": 4
 },
 "nbformat": 4,
 "nbformat_minor": 2
}
