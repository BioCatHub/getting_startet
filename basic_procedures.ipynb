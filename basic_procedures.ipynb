{
 "cells": [
  {
   "cell_type": "markdown",
   "metadata": {},
   "source": [
    "# Roadmap for new programmers"
   ]
  },
  {
   "cell_type": "markdown",
   "metadata": {},
   "source": [
    "## Table of content\n",
    "\n",
    "### Section one everything from the start\n",
    "\n",
    "- [Create your first project](#create-your-first-project)\n",
    "- [I have no experience with programming and python](#new_to_python)\n",
    "- [I have no idea of git and gitlab, github]()"
   ]
  },
  {
   "cell_type": "markdown",
   "metadata": {},
   "source": [
    "<a class=\"anchor\" id=\"create_project\"></a>\n",
    "# Create your first project\n",
    "\n",
    "This tutorial is not meant to be read only. You have to accomplish a task:\n",
    "- [x] Create a github account and create you first repo\n",
    "- Clone the repo and create a branch\n",
    "- Set up the folder structure of a python package\n",
    "- set up a matplotlib package for visualising the following data:\n",
    "- commit, push and merge the repo\n",
    "- create a pull request from this example repo and find all the errors"
   ]
  },
  {
   "cell_type": "markdown",
   "metadata": {},
   "source": [
    "# Step 1 Setting up Git and the usage of Github\n",
    "\n",
    "The usage of Git and Github is the backbone of collaboration in every software development project. Therefore, knowledge about git and github is essential. \n",
    "Of course, if you read this you probably haven't heard of git yet. Therefore, we recommend to watch the following [tutorial](https://www.youtube.com/watch?v=SWYqp7iY_Tc). Here you will find the basics you need to know about the usage of Git and the installation guide for **Windows** **Linux** and **MacOs**. Further resources can be found here:\n",
    "\n",
    "- [Git basic worflows](https://rogerdudler.github.io/git-guide/)\n",
    "\n",
    "# Getting startet with Github\n",
    "\n",
    "Github is a platform we use to store, share, manage our code. Furthermore it is used as collaborating platform in which we organise our work:\n",
    "\n",
    "- Find [here](https://www.youtube.com/watch?v=mVnZVw4KJnc) a video tutorial showing how connect your local Git to a Github instance.\n",
    "\n",
    "- Find [here](https://www.youtube.com/watch?v=TKJ4RdhyB5Y) a video tutorial which shows how collaborating works in github using issues\n",
    "\n",
    "- Find [here](https://www.youtube.com/watch?v=Mfz8NQncwiQ) a video tutorial showing how to do code reviews and pull requests\n",
    "\n",
    "# Step 2 Our workflow with Git and Github\n",
    "\n",
    "Git and Github can be used for a large number of applications. If you take a closer look to Github it is basically not like a small toolbox but a hardware store and you can get lost in all the functionalities very fast, which can be very confusing in the beginning. In Our workflows we concentrate on three different flows in particular:\n",
    "\n",
    "1. Investigating packages\n",
    "2. Updating the package\n",
    "3. Reviewing code from colleagues\n",
    "\n",
    "View in the Git/Github best practise sections for guidelines\n",
    "\n",
    "![img](assets/git-workflow.png)\n",
    "\n"
   ]
  },
  {
   "cell_type": "markdown",
   "metadata": {},
   "source": [
    "# Git/Github best practise\n",
    "\n",
    "## 1. Writing commit messages\n",
    "\n",
    "### 1.1 Header\n",
    "A commit message should always contain a header, consiting of:\n",
    "\n",
    "The keyword fix or feat:\n",
    "- fix: Describing a bug fix which has been performed\n",
    "- feat: Describing a new feature added to the repo\n",
    "\n",
    "If possible, an issue should be mentioned linked to this commit\n",
    "\n",
    "### 1.2 Body\n",
    "\n",
    "The body contains shortly described information about the changes made to the code\n",
    "\n",
    "**Example:**\n",
    "\n",
    "```\n",
    "feat: Implemented pydantic according to Issue #23\n",
    "\n",
    "- Pydantic was added to define, validate and handle data processing\n",
    "- Pydantic replaces marshmallow \n",
    "``` \n"
   ]
  },
  {
   "cell_type": "markdown",
   "metadata": {},
   "source": [
    "<a class=\"anchor\" id=\"new_to_python\"></a>\n",
    "# Basic knowledge about python\n",
    "[Basic tutorial for python]()"
   ]
  },
  {
   "cell_type": "markdown",
   "metadata": {},
   "source": [
    "# How do we structure our code?\n",
    "\n",
    "The workflow of coding is always the same:\n",
    "\n",
    "- A git repo or branch is created\n",
    "- File structure design \n",
    "- Firstly, the required imports are defined [See example]()\n",
    "- Secondly Classes and functions are defined\n",
    "- Docstrings are created\n",
    "- The code is commited and pushed"
   ]
  },
  {
   "cell_type": "markdown",
   "metadata": {},
   "source": [
    "## BP: Importing"
   ]
  },
  {
   "cell_type": "code",
   "execution_count": 1,
   "metadata": {},
   "outputs": [],
   "source": [
    "# Firstly, import Python system packages\n",
    "\n",
    "import os\n",
    "\n",
    "# Secondly import third party libraries/packages\n",
    "\n",
    "import matplotlib.pyplot as plt\n",
    "\n",
    "# Thirdly import local packages\n",
    "\n"
   ]
  },
  {
   "cell_type": "markdown",
   "metadata": {},
   "source": [
    "## BP: Naming conventions"
   ]
  },
  {
   "cell_type": "markdown",
   "metadata": {},
   "source": [
    "\n",
    "Type | Convention | example\n",
    "-- | -- | --\n",
    "modules | Short lowercase names | enzymemlwriter\n",
    "Class | Upper Camel case, Noun | EnzymeMLWriter\n",
    "Function, methods | lower case with words spearated by _ case, verb | Write_enzyme_ml\n",
    "variable | lower case with words spearated by _ case, verb | Enzyme_ml\n",
    "constants | Capital letter, words separated by _ | ENZYMEML_URL"
   ]
  },
  {
   "cell_type": "code",
   "execution_count": 2,
   "metadata": {},
   "outputs": [
    {
     "name": "stdout",
     "output_type": "stream",
     "text": [
      "example\n"
     ]
    }
   ],
   "source": [
    "# Example for Naming Conventions:\n",
    "\n",
    "EXAMPLE_CONSTANT = \"constant\" # Constants are named in uppercase separated by underscores\n",
    "\n",
    "class ExampleBuilder: # Classes are names as nouns in upper CamelCase\n",
    "    def __init__(self, example_name):\n",
    "        self.example_name = example_name # variables in lower case separated by underscores _\n",
    "    \n",
    "    def print_example_name(self): # functions and names are named as verbs in lower case separated by underscores\n",
    "        print(self.example_name)\n",
    "\n",
    "example = ExampleBuilder(\"example\")\n",
    "example.print_example_name()"
   ]
  },
  {
   "cell_type": "markdown",
   "metadata": {},
   "source": [
    "# BP: Docstrings\n",
    "\n",
    "Docstrings give information about the used packages, classes, functions and modules:\n"
   ]
  },
  {
   "cell_type": "code",
   "execution_count": null,
   "metadata": {},
   "outputs": [],
   "source": [
    "class ExampleBuilder: \n",
    "    '''\n",
    "        builds an expample based to depict how best practise and our code of conduct is used\n",
    "        args: \n",
    "            example_name: str\n",
    "        methods:\n",
    "            print_example_name:\n",
    "                prints the example_name of the Example_builder object\n",
    "                returns none\n",
    "\n",
    "    '''\n",
    "    def __init__(self, example_name):\n",
    "        self.example_name = example_name # variables in lower case separated by underscores _\n",
    "    \n",
    "    def print_example_name(self): # functions and names are named as verbs in lower case separated by underscores\n",
    "        print(self.example_name)\n",
    "\n",
    "example = ExampleBuilder(\"example\")\n",
    "example.print_example_name()"
   ]
  }
 ],
 "metadata": {
  "interpreter": {
   "hash": "cc033ebe99e405e33a4a383e14ae1664bf67e0ee711f463ee69b81dbdcfa5b78"
  },
  "kernelspec": {
   "display_name": "Python 3.7.3 64-bit ('base': conda)",
   "language": "python",
   "name": "python3"
  },
  "language_info": {
   "codemirror_mode": {
    "name": "ipython",
    "version": 3
   },
   "file_extension": ".py",
   "mimetype": "text/x-python",
   "name": "python",
   "nbconvert_exporter": "python",
   "pygments_lexer": "ipython3",
   "version": "3.7.12"
  },
  "orig_nbformat": 4
 },
 "nbformat": 4,
 "nbformat_minor": 2
}
