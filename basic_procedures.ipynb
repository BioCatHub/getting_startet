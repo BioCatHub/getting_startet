{
 "cells": [
  {
   "cell_type": "markdown",
   "metadata": {},
   "source": [
    "# Roadmap for new programmers"
   ]
  },
  {
   "cell_type": "markdown",
   "metadata": {},
   "source": [
    "## Table of content\n",
    "\n",
    "### Section one everything from the start\n",
    "\n",
    "- [Create your first project](#create-your-first-project)\n",
    "- [I have no experience with programming and python](#new_to_python)\n",
    "- [I have no idea of git and gitlab, github]()"
   ]
  },
  {
   "cell_type": "markdown",
   "metadata": {},
   "source": [
    "<a class=\"anchor\" id=\"create_project\"></a>\n",
    "# Create your first project\n",
    "\n",
    "This tutorial is not meant to be read only. You have to accomplish a task:\n",
    "- [x] Create a github account and create you first repo\n",
    "- Clone the repo and create a branch\n",
    "- Set up the folder structure of a python package\n",
    "- set up a matplotlib package for visualising the following data:\n",
    "- commit, push and merge the repo\n",
    "- create a pull request from this example repo and find all the errors"
   ]
  },
  {
   "cell_type": "markdown",
   "metadata": {},
   "source": [
    "<a class=\"anchor\" id=\"new_to_python\"></a>\n",
    "# Basic knowledge about python\n",
    "[Basic tutorial for python]()"
   ]
  },
  {
   "cell_type": "markdown",
   "metadata": {},
   "source": [
    "# How do we structure our code?\n",
    "\n",
    "The workflow of coding is always the same:\n",
    "\n",
    "- A git repo or branch is created\n",
    "- File structure design \n",
    "- Firstly, the required imports are defined [See example]()\n",
    "- Secondly Classes and functions are defined\n",
    "- Docstrings are created\n",
    "- The code is commited and pushed"
   ]
  },
  {
   "cell_type": "markdown",
   "metadata": {},
   "source": [
    "## BP: Importing"
   ]
  },
  {
   "cell_type": "code",
   "execution_count": 1,
   "metadata": {},
   "outputs": [],
   "source": [
    "# Firstly, import Python system packages\n",
    "\n",
    "import os\n",
    "\n",
    "# Secondly import third party libraries/packages\n",
    "\n",
    "import matplotlib.pyplot as plt\n",
    "\n",
    "# Thirdly import local packages\n",
    "\n"
   ]
  },
  {
   "cell_type": "markdown",
   "metadata": {},
   "source": [
    "## BP: Naming conventions"
   ]
  },
  {
   "cell_type": "markdown",
   "metadata": {},
   "source": [
    "\n",
    "Type | Convention | example\n",
    "-- | -- | --\n",
    "modules | Short lowercase names | enzymemlwriter\n",
    "Class | Upper Camel case, Noun | EnzymeMLWriter\n",
    "Function, methods | lower case with words spearated by _ case, verb | Write_enzyme_ml\n",
    "variable | lower case with words spearated by _ case, verb | Enzyme_ml\n",
    "constants | Capital letter, words separated by _ | ENZYMEML_URL"
   ]
  }
 ],
 "metadata": {
  "interpreter": {
   "hash": "cc033ebe99e405e33a4a383e14ae1664bf67e0ee711f463ee69b81dbdcfa5b78"
  },
  "kernelspec": {
   "display_name": "Python 3.7.3 64-bit ('base': conda)",
   "language": "python",
   "name": "python3"
  },
  "language_info": {
   "codemirror_mode": {
    "name": "ipython",
    "version": 3
   },
   "file_extension": ".py",
   "mimetype": "text/x-python",
   "name": "python",
   "nbconvert_exporter": "python",
   "pygments_lexer": "ipython3",
   "version": "3.7.3"
  },
  "orig_nbformat": 4
 },
 "nbformat": 4,
 "nbformat_minor": 2
}
